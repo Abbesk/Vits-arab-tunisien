{
 "cells": [
  {
   "cell_type": "code",
   "execution_count": 7,
   "id": "66394282-98d0-4632-a522-0a64a62f1d29",
   "metadata": {
    "scrolled": true
   },
   "outputs": [
    {
     "data": {
      "application/vnd.jupyter.widget-view+json": {
       "model_id": "3a6358c2588b40389507195da19a2370",
       "version_major": 2,
       "version_minor": 0
      },
      "text/plain": [
       "Resolving data files:   0%|          | 0/1387 [00:00<?, ?it/s]"
      ]
     },
     "metadata": {},
     "output_type": "display_data"
    },
    {
     "name": "stdout",
     "output_type": "stream",
     "text": [
      "{'audio': {'path': '/info/etu/m2/s2207850/.cache/huggingface/hub/datasets--Elyadata--TunArTTS/snapshots/efcd79f528295949f04a50f257e7750f991420ea/dataset/wav/0001.wav', 'array': array([ 6.10351562e-05, -9.15527344e-05,  2.13623047e-04, ...,\n",
      "       -2.99072266e-03, -1.28173828e-03,  1.83105469e-04]), 'sampling_rate': 44100}}\n"
     ]
    }
   ],
   "source": [
    "from datasets import load_dataset\n",
    "\n",
    "# Charger le dataset\n",
    "dataset = load_dataset(\"Elyadata/TunArTTS\")\n",
    "\n",
    "# Afficher un échantillon d'exemples dans le dataset\n",
    "print(dataset['train'][0])\n"
   ]
  },
  {
   "cell_type": "code",
   "execution_count": 8,
   "id": "77c4a49f-60e6-41fc-ab13-133674b1a3ca",
   "metadata": {},
   "outputs": [
    {
     "name": "stdout",
     "output_type": "stream",
     "text": [
      "Example 0: {'path': '/info/etu/m2/s2207850/.cache/huggingface/hub/datasets--Elyadata--TunArTTS/snapshots/efcd79f528295949f04a50f257e7750f991420ea/dataset/wav/0001.wav', 'array': array([ 6.10351562e-05, -9.15527344e-05,  2.13623047e-04, ...,\n",
      "       -2.99072266e-03, -1.28173828e-03,  1.83105469e-04]), 'sampling_rate': 44100}\n",
      "Example 1: {'path': '/info/etu/m2/s2207850/.cache/huggingface/hub/datasets--Elyadata--TunArTTS/snapshots/efcd79f528295949f04a50f257e7750f991420ea/dataset/wav/0003.wav', 'array': array([-0.00021362,  0.00067139,  0.0012207 , ...,  0.00048828,\n",
      "       -0.00158691, -0.00149536]), 'sampling_rate': 44100}\n",
      "Example 2: {'path': '/info/etu/m2/s2207850/.cache/huggingface/hub/datasets--Elyadata--TunArTTS/snapshots/efcd79f528295949f04a50f257e7750f991420ea/dataset/wav/0005.wav', 'array': array([0.00219727, 0.0010376 , 0.00024414, ..., 0.00021362, 0.00177002,\n",
      "       0.00241089]), 'sampling_rate': 44100}\n",
      "Example 3: {'path': '/info/etu/m2/s2207850/.cache/huggingface/hub/datasets--Elyadata--TunArTTS/snapshots/efcd79f528295949f04a50f257e7750f991420ea/dataset/wav/0006.wav', 'array': array([ 0.00341797,  0.0017395 , -0.00357056, ..., -0.00164795,\n",
      "       -0.00094604, -0.00073242]), 'sampling_rate': 44100}\n",
      "Example 4: {'path': '/info/etu/m2/s2207850/.cache/huggingface/hub/datasets--Elyadata--TunArTTS/snapshots/efcd79f528295949f04a50f257e7750f991420ea/dataset/wav/0008.wav', 'array': array([-0.00079346, -0.00170898, -0.00259399, ...,  0.0015564 ,\n",
      "        0.0017395 , -0.00076294]), 'sampling_rate': 44100}\n"
     ]
    }
   ],
   "source": [
    "# Afficher les 5 premiers exemples du dataset audio\n",
    "for i in range(5):\n",
    "    print(f\"Example {i}:\", dataset['train'][i]['audio'])\n"
   ]
  },
  {
   "cell_type": "code",
   "execution_count": 9,
   "id": "63c2af4f-ad98-4ad0-b6cb-f37ed223b53d",
   "metadata": {},
   "outputs": [
    {
     "name": "stdout",
     "output_type": "stream",
     "text": [
      "Example 0 path: /info/etu/m2/s2207850/.cache/huggingface/hub/datasets--Elyadata--TunArTTS/snapshots/efcd79f528295949f04a50f257e7750f991420ea/dataset/wav/0001.wav\n",
      "Example 1 path: /info/etu/m2/s2207850/.cache/huggingface/hub/datasets--Elyadata--TunArTTS/snapshots/efcd79f528295949f04a50f257e7750f991420ea/dataset/wav/0003.wav\n",
      "Example 2 path: /info/etu/m2/s2207850/.cache/huggingface/hub/datasets--Elyadata--TunArTTS/snapshots/efcd79f528295949f04a50f257e7750f991420ea/dataset/wav/0005.wav\n",
      "Example 3 path: /info/etu/m2/s2207850/.cache/huggingface/hub/datasets--Elyadata--TunArTTS/snapshots/efcd79f528295949f04a50f257e7750f991420ea/dataset/wav/0006.wav\n",
      "Example 4 path: /info/etu/m2/s2207850/.cache/huggingface/hub/datasets--Elyadata--TunArTTS/snapshots/efcd79f528295949f04a50f257e7750f991420ea/dataset/wav/0008.wav\n"
     ]
    }
   ],
   "source": [
    "# Afficher les 5 premiers chemins de fichiers audio dans le dataset\n",
    "for i in range(5):\n",
    "    print(f\"Example {i} path:\", dataset['train'][i]['audio']['path'])\n"
   ]
  },
  {
   "cell_type": "code",
   "execution_count": null,
   "id": "95f1a745-f255-4515-9437-c7e8487b385a",
   "metadata": {},
   "outputs": [
    {
     "name": "stdout",
     "output_type": "stream",
     "text": [
      "Fichier introuvable: wav/18245.wav\n",
      "Fichier introuvable: wav/21338.wav\n",
      "Fichier introuvable: wav/19030.wav\n",
      "Fichier introuvable: wav/19474.wav\n",
      "Fichier introuvable: wav/19475.wav\n",
      "Fichier introuvable: wav/0556.wav\n",
      "Fichier introuvable: wav/19054.wav\n",
      "Fichier introuvable: wav/19055.wav\n",
      "Fichier introuvable: wav/0171.wav\n",
      "Fichier introuvable: wav/18152.wav\n",
      "Fichier introuvable: wav/0298.wav\n",
      "Fichier introuvable: wav/0464.wav\n",
      "Fichier introuvable: wav/19561.wav\n",
      "Fichier introuvable: wav/19794.wav\n",
      "Fichier introuvable: wav/19557.wav\n",
      "Fichier introuvable: wav/19853.wav\n",
      "Fichier introuvable: wav/20559.wav\n",
      "Fichier introuvable: wav/20610.wav\n",
      "Fichier introuvable: wav/21304.wav\n",
      "Fichier introuvable: wav/19555.wav\n",
      "Fichier introuvable: wav/0302.wav\n",
      "Fichier introuvable: wav/0543.wav\n",
      "Fichier introuvable: wav/0122.wav\n",
      "Fichier introuvable: wav/0193.wav\n",
      "Fichier introuvable: wav/0737.wav\n",
      "Fichier introuvable: wav/0550.wav\n",
      "Fichier introuvable: wav/18962.wav\n",
      "Fichier introuvable: wav/0190.wav\n",
      "Fichier introuvable: wav/0815.wav\n",
      "Fichier introuvable: wav/18808.wav\n",
      "Fichier introuvable: wav/14525.wav\n",
      "Fichier introuvable: wav/19500.wav\n",
      "Fichier introuvable: wav/19648.wav\n",
      "Fichier introuvable: wav/0324.wav\n",
      "Fichier introuvable: wav/14903.wav\n",
      "Fichier introuvable: wav/18357.wav\n",
      "Fichier introuvable: wav/15781.wav\n",
      "Fichier introuvable: wav/15586.wav\n",
      "Fichier introuvable: wav/0321.wav\n",
      "Fichier introuvable: wav/15632.wav\n",
      "Fichier introuvable: wav/16293.wav\n",
      "Fichier introuvable: wav/20990.wav\n",
      "Fichier introuvable: wav/0673.wav\n",
      "Fichier introuvable: wav/18963.wav\n",
      "Fichier introuvable: wav/21440.wav\n",
      "Fichier introuvable: wav/0672.wav\n",
      "Fichier introuvable: wav/20265.wav\n",
      "Fichier introuvable: wav/20642.wav\n",
      "Fichier introuvable: wav/20701.wav\n",
      "Fichier introuvable: wav/14891.wav\n",
      "Fichier introuvable: wav/20258.wav\n",
      "Fichier introuvable: wav/19975.wav\n",
      "Fichier introuvable: wav/0739.wav\n",
      "Fichier introuvable: wav/19536.wav\n",
      "Fichier introuvable: wav/20613.wav\n",
      "Fichier introuvable: wav/19517.wav\n",
      "Fichier introuvable: wav/19312.wav\n",
      "Fichier introuvable: wav/0538.wav\n",
      "Fichier introuvable: wav/0539.wav\n",
      "Fichier introuvable: wav/0540.wav\n",
      "Fichier introuvable: wav/0545.wav\n",
      "Fichier introuvable: wav/0547.wav\n",
      "Fichier introuvable: wav/0549.wav\n",
      "Fichier introuvable: wav/0551.wav\n",
      "Fichier introuvable: wav/0554.wav\n",
      "Fichier introuvable: wav/0296.wav\n",
      "Fichier introuvable: wav/18913.wav\n",
      "Fichier introuvable: wav/19771.wav\n",
      "Fichier introuvable: wav/0458.wav\n",
      "Fichier introuvable: wav/0588.wav\n",
      "Fichier introuvable: wav/0678.wav\n",
      "Fichier introuvable: wav/0698.wav\n",
      "Fichier introuvable: wav/0808.wav\n",
      "Fichier introuvable: wav/19769.wav\n",
      "Fichier introuvable: wav/0559.wav\n",
      "Fichier introuvable: wav/0560.wav\n",
      "Fichier introuvable: wav/21601.wav\n",
      "Fichier introuvable: wav/0021.wav\n",
      "Fichier introuvable: wav/0169.wav\n",
      "Fichier introuvable: wav/0286.wav\n",
      "Fichier introuvable: wav/0287.wav\n",
      "Fichier introuvable: wav/0531.wav\n",
      "Fichier introuvable: wav/15665.wav\n",
      "Fichier introuvable: wav/14616.wav\n",
      "Fichier introuvable: wav/14941.wav\n",
      "Fichier introuvable: wav/14991.wav\n",
      "Fichier introuvable: wav/15003.wav\n",
      "Fichier introuvable: wav/15079.wav\n",
      "Fichier introuvable: wav/15269.wav\n",
      "Fichier introuvable: wav/18237.wav\n",
      "Fichier introuvable: wav/19178.wav\n",
      "Fichier introuvable: wav/14849.wav\n",
      "Fichier introuvable: wav/18774.wav\n",
      "Fichier introuvable: wav/19335.wav\n",
      "Fichier introuvable: wav/0280.wav\n",
      "Fichier introuvable: wav/0409.wav\n",
      "Fichier introuvable: wav/21499.wav\n",
      "Fichier introuvable: wav/0115.wav\n",
      "Fichier introuvable: wav/0120.wav\n",
      "Fichier introuvable: wav/0123.wav\n",
      "Fichier introuvable: wav/0126.wav\n",
      "Fichier introuvable: wav/0128.wav\n",
      "Fichier introuvable: wav/0129.wav\n",
      "Fichier introuvable: wav/0119.wav\n",
      "Fichier introuvable: wav/0125.wav\n",
      "Fichier introuvable: wav/0130.wav\n",
      "Fichier introuvable: wav/0131.wav\n"
     ]
    },
    {
     "name": "stderr",
     "output_type": "stream",
     "text": [
      "/usr/local/lib/python3.9/dist-packages/torchaudio/functional/functional.py:539: UserWarning: At least one mel filterbank has all zero values. The value for `n_mels` (128) may be set too high. Or, the value for `n_freqs` (201) may be set too low.\n",
      "  warnings.warn(\n"
     ]
    },
    {
     "name": "stdout",
     "output_type": "stream",
     "text": [
      "Fichier introuvable: wav/0470.wav\n"
     ]
    }
   ],
   "source": [
    "import torchaudio\n",
    "from datasets import Dataset\n",
    "import os\n",
    "\n",
    "# Fonction pour charger un fichier audio et le convertir en spectrogramme\n",
    "def audio_to_mel_spectrogram(file_path):\n",
    "    if not os.path.exists(file_path):  # Vérifier si le fichier existe\n",
    "        print(f\"Fichier introuvable: {file_path}\")\n",
    "        return None  # Retourner None si le fichier n'existe pas\n",
    "    \n",
    "    waveform, sample_rate = torchaudio.load(file_path)\n",
    "    mel_spectrogram = torchaudio.transforms.MelSpectrogram()(waveform)\n",
    "    return mel_spectrogram\n",
    "\n",
    "# Créer un dataset compatible avec Hugging Face\n",
    "data = []\n",
    "\n",
    "for index, row in df.iterrows():\n",
    "    audio_path = row['audio']  # chemin du fichier audio\n",
    "    \n",
    "    # Charger l'audio en spectrogramme uniquement si le fichier existe\n",
    "    mel_spec = audio_to_mel_spectrogram(audio_path)\n",
    "    \n",
    "    if mel_spec is None:  # Si le spectrogramme n'a pas été généré, ignorer cet élément\n",
    "        continue\n",
    "    \n",
    "    text = row['tgt_text']  # texte avec diacritiques\n",
    "    \n",
    "    data.append({\n",
    "        'audio': mel_spec,\n",
    "        'text': text\n",
    "    })\n",
    "\n",
    "# Créer un dataset Hugging Face\n",
    "dataset = Dataset.from_list(data)\n",
    "print(dataset[0])  # Affiche un exemple de données\n"
   ]
  },
  {
   "cell_type": "code",
   "execution_count": null,
   "id": "84aff542-178b-4cd5-acd8-154c00604fdb",
   "metadata": {},
   "outputs": [],
   "source": []
  }
 ],
 "metadata": {
  "kernelspec": {
   "display_name": "Python 3 (ipykernel)",
   "language": "python",
   "name": "python3"
  },
  "language_info": {
   "codemirror_mode": {
    "name": "ipython",
    "version": 3
   },
   "file_extension": ".py",
   "mimetype": "text/x-python",
   "name": "python",
   "nbconvert_exporter": "python",
   "pygments_lexer": "ipython3",
   "version": "3.9.2"
  }
 },
 "nbformat": 4,
 "nbformat_minor": 5
}
